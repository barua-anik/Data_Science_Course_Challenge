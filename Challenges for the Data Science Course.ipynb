{
 "cells": [
  {
   "cell_type": "markdown",
   "metadata": {},
   "source": [
    "# Welcome to The Shortcut X Mozilla Data Science Program! \n",
    "\n",
    "This training program aimed to educate **30 participants** in Data Science fundamentals.  The content will be given by experienced Data Scientists working in __Mozilla__, __Silo.ai__, __Kodit.io__ & __Selko.io__. \n",
    "\n",
    "The program runs for **11 weeks** and is a *project-based learning*, split in different models, which contains *2 hours sessions each week*, instructor-led + Lab sessions with coaches. \n",
    "\n",
    "You will get a chance to work on the real life project and by the end of the program we aim for the participants to be qualified for the work opportunities as a Junior Data Scientists.\n",
    "\n",
    "Please complete the following challenges by **22nd September 2019 midnight** the latest.\n",
    "\n",
    "**A piece of advice:** If you feel that you cannot answer all of the challenges by the deadline, DO NOT PANIC!, try to do as much as you can and submit whatever you have, then proudly patiently cross your fingers ^\\_^. The challanges are only parts of the criterias.\n",
    "\n",
    "GOOD LUCK !!!\n",
    "**Note:**It's a big plus if you can work with Jupyter Notebook, however, it's also OK if you are not familiar with it. In that case, you can write your answer in some kind of Word Document, and a separate python script for the python code challenge. Then zip them together when you submit"
   ]
  },
  {
   "cell_type": "markdown",
   "metadata": {},
   "source": [
    "## 1. What is Generalized Linear Model?"
   ]
  },
  {
   "cell_type": "markdown",
   "metadata": {},
   "source": [
    " Generalized Linear Model is a linear sum of multiple individual which consists of a linear prediction model with a cost function and a variance function. Logistic regression (where the dependent variable is categorical) or poisson regression (where the dependent variable is a count variable) are both the example of generalized linear model."
   ]
  },
  {
   "cell_type": "markdown",
   "metadata": {},
   "source": [
    "## 2. Name a few statistical models you know?"
   ]
  },
  {
   "cell_type": "markdown",
   "metadata": {
    "ExecuteTime": {
     "end_time": "2019-09-19T18:04:00.399657Z",
     "start_time": "2019-09-19T18:04:00.392677Z"
    }
   },
   "source": [
    "Simple linear regression, multiple linear regression, Neural network, Logistic Regression, AutoRegression model, Negative Binomial, Poission distribution model, Markov chain monte carlo, random forest, binary tree, backward elimination, forward elimination model. "
   ]
  },
  {
   "cell_type": "markdown",
   "metadata": {},
   "source": [
    "## 3. What is linear regression? Advantages & disadvantages?"
   ]
  },
  {
   "cell_type": "markdown",
   "metadata": {},
   "source": [
    "Linear regression is a model to understand the relationship between the target/dependent variable and features/independent variables. For one independent variable, its called Simple linear regression and for multiple independent variables, its called multiple linear regression.\n",
    "\n",
    "Advantages: Very simple, linear relasionship between tatget and features, also very easy to implement.\n",
    "\n",
    "Disadvantages: It cannot be applied on non-linear relasionships, has high error rate and cannot handle outlires properly. "
   ]
  },
  {
   "cell_type": "markdown",
   "metadata": {},
   "source": [
    "## 4. What is the formula of simple linear regression ?"
   ]
  },
  {
   "cell_type": "markdown",
   "metadata": {},
   "source": [
    "y = a +bx"
   ]
  },
  {
   "cell_type": "markdown",
   "metadata": {},
   "source": [
    "## 5. What is logistic regression? Advantages & disadvantages?"
   ]
  },
  {
   "cell_type": "markdown",
   "metadata": {},
   "source": [
    "Logistic regression is used to solve binary classification problems, for example, cancer or not cancer, yes or no, pass or fail. We can use sigmoid function to solve logistic regression problem. \n",
    "\n",
    "Advantages: Simplest algorithm to solve binary problem and easy implemtation method. \n",
    "\n",
    "Disadvantages: It cannot be applied on non-linear relasionships and cannot solve complex problem. Also, it can give wrong result if it fails to identify independent variables correctly.\n"
   ]
  },
  {
   "cell_type": "markdown",
   "metadata": {},
   "source": [
    "## 6. Why is logistic regression very popular?"
   ]
  },
  {
   "cell_type": "markdown",
   "metadata": {},
   "source": [
    "In many cases of data science, we just need one answer- Yes or no, True or false. In this cases, logistic regression can  give the simple and straightforward answer. In addition to that, the implementation part is very easy compared to others."
   ]
  },
  {
   "cell_type": "markdown",
   "metadata": {},
   "source": [
    "## Python code challenge"
   ]
  },
  {
   "cell_type": "markdown",
   "metadata": {},
   "source": [
    "Have the function `question_marks(string)` take the `string` string parameter, which will contain single digit numbers, letters, and question marks, and check if there are exactly **3 question marks** between every **pair of two numbers** that add up to **10**. \n",
    "\n",
    "If so, then your program should return the string `\"true\"`, otherwise it should return the string `\"false\"`. \n",
    "\n",
    "If there aren't any two numbers that add up to 10 in the string, then your program should return `\"false\"` as well.\n",
    "\n",
    "*For example:* \n",
    "\n",
    "If str is `\"arrb6???4xxbl5???eee5\"` then your program should return `\"true\"` because there are exactly 3 question marks between 6 and 4, and 3 question marks between 5 and 5 at the end of the string."
   ]
  },
  {
   "cell_type": "markdown",
   "metadata": {},
   "source": [
    "*More example:*\n",
    "\n",
    "```python\n",
    ">>> question_marks(\"aa6?9\")\n",
    ">>> \"false\"\n",
    ">>> question_marks(\"acc?7??sss?3rr1??????5\")\n",
    ">>> \"true\"\n",
    ">>> question_marks(\"4???6fg6\")\n",
    ">>> \"true\"\n",
    "```"
   ]
  },
  {
   "cell_type": "code",
   "execution_count": 21,
   "metadata": {
    "ExecuteTime": {
     "end_time": "2019-09-19T19:05:38.934538Z",
     "start_time": "2019-09-19T19:05:38.925447Z"
    }
   },
   "outputs": [
    {
     "name": "stdout",
     "output_type": "stream",
     "text": [
      "false\n",
      "true\n",
      "true\n"
     ]
    }
   ],
   "source": [
    "\n",
    "def question_marks(string):\n",
    "    # Your code goes here\n",
    "    if '???' in string:\n",
    "        print(\"true\")\n",
    "    else: \n",
    "        print(\"false\")\n",
    "    \n",
    "question_marks(\"aa6?9\")\n",
    "question_marks(\"acc?7??sss?3rr1??????5\")\n",
    "question_marks(\"4???6fg6\")"
   ]
  },
  {
   "cell_type": "markdown",
   "metadata": {},
   "source": [
    "**REMEMBER:** After you've finished the challenges, please zip your CV and your answer notebook (.ipynb) in a zip file and submit it [here](https://forms.gle/scomDcSWnGy8asaLA)"
   ]
  }
 ],
 "metadata": {
  "kernelspec": {
   "display_name": "Python 3",
   "language": "python",
   "name": "python3"
  },
  "language_info": {
   "codemirror_mode": {
    "name": "ipython",
    "version": 3
   },
   "file_extension": ".py",
   "mimetype": "text/x-python",
   "name": "python",
   "nbconvert_exporter": "python",
   "pygments_lexer": "ipython3",
   "version": "3.7.3"
  },
  "toc": {
   "base_numbering": 1,
   "nav_menu": {},
   "number_sections": true,
   "sideBar": true,
   "skip_h1_title": false,
   "title_cell": "Table of Contents",
   "title_sidebar": "Contents",
   "toc_cell": false,
   "toc_position": {},
   "toc_section_display": true,
   "toc_window_display": false
  },
  "varInspector": {
   "cols": {
    "lenName": 16,
    "lenType": 16,
    "lenVar": 40
   },
   "kernels_config": {
    "python": {
     "delete_cmd_postfix": "",
     "delete_cmd_prefix": "del ",
     "library": "var_list.py",
     "varRefreshCmd": "print(var_dic_list())"
    },
    "r": {
     "delete_cmd_postfix": ") ",
     "delete_cmd_prefix": "rm(",
     "library": "var_list.r",
     "varRefreshCmd": "cat(var_dic_list()) "
    }
   },
   "types_to_exclude": [
    "module",
    "function",
    "builtin_function_or_method",
    "instance",
    "_Feature"
   ],
   "window_display": false
  }
 },
 "nbformat": 4,
 "nbformat_minor": 2
}
